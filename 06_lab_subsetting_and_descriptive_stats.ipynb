{
  "cells": [
    {
      "cell_type": "markdown",
      "metadata": {
        "id": "Bu-Nkq5os8Rv"
      },
      "source": [
        "# Subsetting and Descriptive Stats\n",
        "\n",
        "## Before your start:\n",
        "   - Remember that you just need to do one of the challenges.\n",
        "   - Keep in mind that you need to use some of the functions you learned in the previous lessons.\n",
        "   - All datasets are provided in IronHack's database.\n",
        "   - Elaborate your codes and outputs as much as you can.\n",
        "   - Try your best to answer the questions and complete the tasks and most importantly: enjoy the process!\n",
        "   \n",
        "#### Import all the necessary libraries here:"
      ]
    },
    {
      "cell_type": "code",
      "execution_count": 1,
      "metadata": {
        "id": "qL9Obqofs8Rz"
      },
      "outputs": [],
      "source": [
        "import numpy as np\n",
        "import pandas as pd"
      ]
    },
    {
      "cell_type": "markdown",
      "metadata": {
        "id": "hAWRXhrjs8R0"
      },
      "source": [
        "# [ONLY ONE MANDATORY] Challenge 1\n",
        "#### In this challenge we will use the `Temp_States`  dataset.\n",
        "\n",
        "#### First import it into a dataframe called `temp`."
      ]
    },
    {
      "cell_type": "code",
      "execution_count": null,
      "metadata": {
        "id": "rMkeGDtGs8R1"
      },
      "outputs": [],
      "source": [
        "temp = pd.read_csv(\"/content/Temp_States.csv\")\n",
        "temp"
      ]
    },
    {
      "cell_type": "markdown",
      "metadata": {
        "id": "TyO2m1C6s8R1"
      },
      "source": [
        "#### Print `temp`."
      ]
    },
    {
      "cell_type": "code",
      "execution_count": null,
      "metadata": {
        "id": "wzx6KaXys8R1"
      },
      "outputs": [],
      "source": [
        "print(temp)"
      ]
    },
    {
      "cell_type": "markdown",
      "metadata": {
        "id": "UIlSrVN9s8R2"
      },
      "source": [
        "#### Explore the data types of the *temp* dataframe. What types of data do we have? Comment your result."
      ]
    },
    {
      "cell_type": "code",
      "execution_count": null,
      "metadata": {
        "id": "FQ4ix-q0s8R2"
      },
      "outputs": [],
      "source": [
        "temp.dtypes"
      ]
    },
    {
      "cell_type": "code",
      "execution_count": null,
      "metadata": {
        "id": "id4TmlFss8R2"
      },
      "outputs": [],
      "source": [
        "\"\"\" City and State contain categorical info, so it makes perfect sense to be defined by \"object\" type.\n",
        " For temperature, \"float64\" is set for a numerical value that can present decimal points, usual in case of temperatures.\"\"\""
      ]
    },
    {
      "cell_type": "markdown",
      "metadata": {
        "id": "KVnRut2Us8R2"
      },
      "source": [
        "#### Select the rows where state is New York."
      ]
    },
    {
      "cell_type": "code",
      "execution_count": null,
      "metadata": {
        "id": "74vB0RnJs8R3"
      },
      "outputs": [],
      "source": [
        "temp_NY = temp[temp[\"State\"] == \"New York\"]\n",
        "print(temp_NY)"
      ]
    },
    {
      "cell_type": "markdown",
      "metadata": {
        "id": "DgrKFQSRs8R3"
      },
      "source": [
        "#### What is the average temperature of cities in New York?"
      ]
    },
    {
      "cell_type": "code",
      "execution_count": null,
      "metadata": {
        "id": "bgOTcd_ps8R3"
      },
      "outputs": [],
      "source": [
        "temp_NY[\"Temperature\"].mean()\n",
        "print(\"Mean temperature for NY State is\", (round(temp_NY[\"Temperature\"].mean(), 2)),\"degrees\")"
      ]
    },
    {
      "cell_type": "markdown",
      "metadata": {
        "id": "MVURf8Bws8R4"
      },
      "source": [
        "#### Which states and cities have a temperature above 15 degrees Celsius?"
      ]
    },
    {
      "cell_type": "code",
      "execution_count": null,
      "metadata": {
        "id": "YzTPKyN1s8R4"
      },
      "outputs": [],
      "source": [
        "temp_over15 = temp[temp[\"Temperature\"] > 15]\n",
        "print(\"States and cities with temperature over 15 degrees are: \\n\", temp_over15)"
      ]
    },
    {
      "cell_type": "markdown",
      "metadata": {
        "id": "cuxzkiPIs8R4"
      },
      "source": [
        "#### Now, return only the cities that have a temperature above 15 degrees Celsius."
      ]
    },
    {
      "cell_type": "code",
      "source": [
        "cities_temp = temp.loc[temp[\"Temperature\"] > 15, \"City\"]\n",
        "print(\"Cities with temperature over 15 degrees are: \\n\", cities_temp)"
      ],
      "metadata": {
        "id": "8ETUvJ0wtqBF"
      },
      "execution_count": null,
      "outputs": []
    },
    {
      "cell_type": "markdown",
      "metadata": {
        "id": "Jk_nWQcAs8R5"
      },
      "source": [
        "#### Which cities have a temperature above 15 degrees Celcius and below 20 degrees Celsius?\n",
        "\n",
        "**Hint**: First, write the condition. Then, select the rows."
      ]
    },
    {
      "cell_type": "code",
      "execution_count": 27,
      "metadata": {
        "id": "Apv6edFos8R5",
        "colab": {
          "base_uri": "https://localhost:8080/"
        },
        "outputId": "354e7512-0684-4e60-db8f-3f29bad8e49a"
      },
      "outputs": [
        {
          "output_type": "stream",
          "name": "stdout",
          "text": [
            "Cities with temperatures > 15 and < 20 degrees are:\n",
            " 0         NYC\n",
            "3    Hartford\n",
            "Name: City, dtype: object\n"
          ]
        }
      ],
      "source": [
        "cities_temp_2 = temp.loc[(temp[\"Temperature\"] > 15) & (temp[\"Temperature\"] < 20), \"City\"]\n",
        "print(\"Cities with temperatures > 15 and < 20 degrees are:\\n\", cities_temp_2)"
      ]
    },
    {
      "cell_type": "markdown",
      "metadata": {
        "id": "X4tzKh6bs8R5"
      },
      "source": [
        "#### Find the mean and standard deviation of the temperature of each state."
      ]
    },
    {
      "cell_type": "code",
      "source": [
        "mean_temp = temp.groupby(\"State\")[\"Temperature\"].mean()\n",
        "print(\"Mean temperatures by state:\\n\", mean_temp)"
      ],
      "metadata": {
        "colab": {
          "base_uri": "https://localhost:8080/"
        },
        "id": "JoEO3r1nwbZ5",
        "outputId": "bd2e7dab-f328-4b24-d81c-434e9e4f0571"
      },
      "execution_count": 31,
      "outputs": [
        {
          "output_type": "stream",
          "name": "stdout",
          "text": [
            "Mean temperatures by state:\n",
            " State\n",
            "Connecticut    15.833333\n",
            "New Jersey     21.111111\n",
            "New York       10.740741\n",
            "Name: Temperature, dtype: float64\n"
          ]
        }
      ]
    },
    {
      "cell_type": "code",
      "source": [
        "std_temp = temp.groupby(\"State\")[\"Temperature\"].std()\n",
        "print(\"\\nStandard deviation of temperatures by state:\\n\", std_temp)"
      ],
      "metadata": {
        "colab": {
          "base_uri": "https://localhost:8080/"
        },
        "id": "On7-EgcdwbXf",
        "outputId": "05de764e-1684-4835-a514-77d8705f2cd1"
      },
      "execution_count": 32,
      "outputs": [
        {
          "output_type": "stream",
          "name": "stdout",
          "text": [
            "\n",
            "Standard deviation of temperatures by state:\n",
            " State\n",
            "Connecticut    1.964186\n",
            "New Jersey     1.571348\n",
            "New York       8.133404\n",
            "Name: Temperature, dtype: float64\n"
          ]
        }
      ]
    },
    {
      "cell_type": "markdown",
      "metadata": {
        "collapsed": true,
        "id": "cfhRpnMws8R6"
      },
      "source": [
        "# [ONLY ONE MANDATORY]  Challenge 2"
      ]
    },
    {
      "cell_type": "markdown",
      "metadata": {
        "id": "79WHWNe9s8R6"
      },
      "source": [
        "#### Load the `employees` dataset into a dataframe. Call the dataframe `employees`."
      ]
    },
    {
      "cell_type": "code",
      "execution_count": null,
      "metadata": {
        "id": "sxYJaAUss8R6"
      },
      "outputs": [],
      "source": [
        "employees = pd.read_csv(\"/content/Employee.csv\")\n",
        "employees"
      ]
    },
    {
      "cell_type": "markdown",
      "metadata": {
        "id": "U4MGu9GVs8R6"
      },
      "source": [
        "#### Explore the data types of the `employees` dataframe. Comment your results."
      ]
    },
    {
      "cell_type": "code",
      "execution_count": null,
      "metadata": {
        "id": "y6mTy6gOs8R6"
      },
      "outputs": [],
      "source": [
        "# your code here"
      ]
    },
    {
      "cell_type": "code",
      "execution_count": null,
      "metadata": {
        "id": "Kkc5lDTJs8R7"
      },
      "outputs": [],
      "source": [
        "\"\"\"\n",
        "your comments here\n",
        "\"\"\""
      ]
    },
    {
      "cell_type": "markdown",
      "metadata": {
        "id": "qtalOiMys8R7"
      },
      "source": [
        "#### What's the average salary in this company?"
      ]
    },
    {
      "cell_type": "code",
      "execution_count": null,
      "metadata": {
        "id": "Z7iRZZD0s8R7"
      },
      "outputs": [],
      "source": [
        "# your code here"
      ]
    },
    {
      "cell_type": "markdown",
      "metadata": {
        "id": "ws_d0eRHs8R7"
      },
      "source": [
        "#### What's the highest salary?"
      ]
    },
    {
      "cell_type": "code",
      "execution_count": null,
      "metadata": {
        "id": "JJBAFbens8R7"
      },
      "outputs": [],
      "source": [
        "# your code here"
      ]
    },
    {
      "cell_type": "markdown",
      "metadata": {
        "id": "FK2-4Xyes8R8"
      },
      "source": [
        "#### What's the lowest salary?"
      ]
    },
    {
      "cell_type": "code",
      "execution_count": null,
      "metadata": {
        "id": "9lOlWFmBs8R8"
      },
      "outputs": [],
      "source": [
        "# your code here"
      ]
    },
    {
      "cell_type": "markdown",
      "metadata": {
        "id": "ZP0DDmwJs8R8"
      },
      "source": [
        "#### Who are the employees with the lowest salary?"
      ]
    },
    {
      "cell_type": "code",
      "execution_count": null,
      "metadata": {
        "id": "QFLCyiihs8R8"
      },
      "outputs": [],
      "source": [
        "# your code here"
      ]
    },
    {
      "cell_type": "markdown",
      "metadata": {
        "id": "njsZV12os8R8"
      },
      "source": [
        "#### Find all the information about an employee called David."
      ]
    },
    {
      "cell_type": "code",
      "execution_count": null,
      "metadata": {
        "id": "LkykOZ54s8R9"
      },
      "outputs": [],
      "source": [
        "# your code here"
      ]
    },
    {
      "cell_type": "markdown",
      "metadata": {
        "id": "DXAk4fhIs8R9"
      },
      "source": [
        "#### Could you return only David's salary?"
      ]
    },
    {
      "cell_type": "code",
      "execution_count": null,
      "metadata": {
        "id": "eljS1FPBs8R9"
      },
      "outputs": [],
      "source": [
        "# your code here"
      ]
    },
    {
      "cell_type": "markdown",
      "metadata": {
        "id": "D46ElmiEs8SE"
      },
      "source": [
        "#### Print all the rows where job title is associate."
      ]
    },
    {
      "cell_type": "code",
      "execution_count": null,
      "metadata": {
        "id": "MvZEu6Tjs8SE"
      },
      "outputs": [],
      "source": [
        "# your code here"
      ]
    },
    {
      "cell_type": "markdown",
      "metadata": {
        "id": "H2ESVfKls8SF"
      },
      "source": [
        "#### Print the first 3 rows of your dataframe.\n",
        "**Tip**: There are 2 ways to do it. Do it both ways."
      ]
    },
    {
      "cell_type": "code",
      "execution_count": null,
      "metadata": {
        "id": "_m9Iy26zs8SF"
      },
      "outputs": [],
      "source": [
        "# Method 1\n",
        "# your code here"
      ]
    },
    {
      "cell_type": "code",
      "execution_count": null,
      "metadata": {
        "id": "k1Issscps8SF"
      },
      "outputs": [],
      "source": [
        "# Method 2\n",
        "# your code here"
      ]
    },
    {
      "cell_type": "markdown",
      "metadata": {
        "id": "vDn_pSFHs8SF"
      },
      "source": [
        "#### Find the employees whose title is associate and whose salary is above 55."
      ]
    },
    {
      "cell_type": "code",
      "execution_count": null,
      "metadata": {
        "id": "3Dfa-wJ_s8SF"
      },
      "outputs": [],
      "source": [
        "# your code here"
      ]
    },
    {
      "cell_type": "markdown",
      "metadata": {
        "id": "ZOtYI0nBs8SG"
      },
      "source": [
        "#### Group the employees by number of years of employment. What are the average salaries in each group?"
      ]
    },
    {
      "cell_type": "code",
      "execution_count": null,
      "metadata": {
        "id": "c4-jbFoHs8SG"
      },
      "outputs": [],
      "source": [
        "# your code here"
      ]
    },
    {
      "cell_type": "markdown",
      "metadata": {
        "id": "PcXKXNnrs8SG"
      },
      "source": [
        "####  What is the average salary per title?"
      ]
    },
    {
      "cell_type": "code",
      "execution_count": null,
      "metadata": {
        "id": "-T0p5jz8s8SG"
      },
      "outputs": [],
      "source": [
        "# your code here"
      ]
    },
    {
      "cell_type": "markdown",
      "metadata": {
        "id": "69mM5hr4s8SH"
      },
      "source": [
        "####  Find the salary quartiles.\n"
      ]
    },
    {
      "cell_type": "code",
      "execution_count": null,
      "metadata": {
        "id": "7hjbEfrHs8SH"
      },
      "outputs": [],
      "source": [
        "# your code here"
      ]
    },
    {
      "cell_type": "markdown",
      "metadata": {
        "id": "9CX8Z6Pls8SH"
      },
      "source": [
        "#### Is the mean salary different per gender?"
      ]
    },
    {
      "cell_type": "code",
      "execution_count": null,
      "metadata": {
        "id": "esGVjSDfs8SH"
      },
      "outputs": [],
      "source": [
        "# your code here"
      ]
    },
    {
      "cell_type": "markdown",
      "metadata": {
        "id": "yaIJG7WTs8SI"
      },
      "source": [
        "#### Find the minimum, mean and maximum of all numeric columns for each company department.\n",
        "\n"
      ]
    },
    {
      "cell_type": "code",
      "execution_count": null,
      "metadata": {
        "id": "9o5Nivrus8SI"
      },
      "outputs": [],
      "source": [
        "# your code here"
      ]
    },
    {
      "cell_type": "markdown",
      "metadata": {
        "id": "Pxubz11fs8SI"
      },
      "source": [
        "#### Bonus Question:  for each department, compute the difference between the maximum and the minimum salary.\n",
        "**Hint**: try using `agg` or `apply` combined with `lambda` functions."
      ]
    },
    {
      "cell_type": "code",
      "execution_count": null,
      "metadata": {
        "id": "mONYxD5Rs8SI"
      },
      "outputs": [],
      "source": [
        "# your code here"
      ]
    },
    {
      "cell_type": "markdown",
      "metadata": {
        "collapsed": true,
        "id": "McpoQLfhs8SJ"
      },
      "source": [
        "# [ONLY ONE MANDATORY] Challenge 3\n",
        "#### Open the `Orders` dataset. Name your dataset `orders`."
      ]
    },
    {
      "cell_type": "code",
      "execution_count": null,
      "metadata": {
        "id": "U6pcPK9us8SJ"
      },
      "outputs": [],
      "source": [
        "# your code here"
      ]
    },
    {
      "cell_type": "markdown",
      "metadata": {
        "id": "HMltpeN3s8SJ"
      },
      "source": [
        "#### Explore your dataset by looking at the data types and summary statistics. Comment your results."
      ]
    },
    {
      "cell_type": "code",
      "execution_count": null,
      "metadata": {
        "id": "DhZ7USzls8SJ"
      },
      "outputs": [],
      "source": [
        "# your code here"
      ]
    },
    {
      "cell_type": "code",
      "execution_count": null,
      "metadata": {
        "id": "uD7vvgius8SJ"
      },
      "outputs": [],
      "source": [
        "\"\"\"\n",
        "your comments here\n",
        "\"\"\""
      ]
    },
    {
      "cell_type": "markdown",
      "metadata": {
        "id": "qlexx0Rls8SK"
      },
      "source": [
        "####  What is the average purchase price?"
      ]
    },
    {
      "cell_type": "code",
      "execution_count": null,
      "metadata": {
        "id": "G-1pIQc3s8SK"
      },
      "outputs": [],
      "source": [
        "# your code here"
      ]
    },
    {
      "cell_type": "markdown",
      "metadata": {
        "id": "Cy2bH7pDs8SK"
      },
      "source": [
        "#### What are the highest and lowest purchase prices?"
      ]
    },
    {
      "cell_type": "code",
      "execution_count": null,
      "metadata": {
        "id": "0hKzVlH-s8SK"
      },
      "outputs": [],
      "source": [
        "# your code here"
      ]
    },
    {
      "cell_type": "markdown",
      "metadata": {
        "id": "FL-S5kqLs8SL"
      },
      "source": [
        "#### Select all the customers from Spain.\n",
        "**Hint**: Remember that you are not asked to find orders from Spain but customers. A customer might have more than one order associated."
      ]
    },
    {
      "cell_type": "code",
      "execution_count": null,
      "metadata": {
        "id": "XqjK7vINs8SL"
      },
      "outputs": [],
      "source": [
        "# your code here"
      ]
    },
    {
      "cell_type": "markdown",
      "metadata": {
        "id": "YiW1JgCls8SL"
      },
      "source": [
        "#### How many customers do we have in Spain?"
      ]
    },
    {
      "cell_type": "code",
      "execution_count": null,
      "metadata": {
        "id": "GFoSjPXEs8SL"
      },
      "outputs": [],
      "source": [
        "# your code here"
      ]
    },
    {
      "cell_type": "markdown",
      "metadata": {
        "id": "xtLsb-Yes8SM"
      },
      "source": [
        "#### Select all the customers who have bought more than 50 items.\n",
        "**Hint**: Remember that you are not asked to find orders with more than 50 items but customers who bought more than 50 items. A customer with two orders of 30 items each should appear in the selection."
      ]
    },
    {
      "cell_type": "code",
      "execution_count": null,
      "metadata": {
        "id": "I_As1TZMs8SM"
      },
      "outputs": [],
      "source": [
        "# your code here"
      ]
    },
    {
      "cell_type": "markdown",
      "metadata": {
        "id": "JbAXjAJ3s8SM"
      },
      "source": [
        "#### Select orders from Spain that include more than 50 items."
      ]
    },
    {
      "cell_type": "code",
      "execution_count": null,
      "metadata": {
        "id": "zDUOLQNus8SM"
      },
      "outputs": [],
      "source": [
        "# your code here"
      ]
    },
    {
      "cell_type": "markdown",
      "metadata": {
        "id": "bRljNqffs8SM"
      },
      "source": [
        "#### Select all free orders."
      ]
    },
    {
      "cell_type": "code",
      "execution_count": null,
      "metadata": {
        "id": "z8Gs0Iy7s8SN"
      },
      "outputs": [],
      "source": [
        "# your code here"
      ]
    },
    {
      "cell_type": "markdown",
      "metadata": {
        "id": "oaD9swYUs8SN"
      },
      "source": [
        "#### Select all orders whose description starts with `lunch bag`.\n",
        "**Hint**: use string functions."
      ]
    },
    {
      "cell_type": "code",
      "execution_count": null,
      "metadata": {
        "id": "3-BOLG7Ks8SN"
      },
      "outputs": [],
      "source": [
        "# your code here"
      ]
    },
    {
      "cell_type": "markdown",
      "metadata": {
        "id": "hSXtltzKs8SN"
      },
      "source": [
        "#### Select all `lunch bag` orders made in 2011."
      ]
    },
    {
      "cell_type": "code",
      "execution_count": null,
      "metadata": {
        "id": "0wprODWBs8SN"
      },
      "outputs": [],
      "source": [
        "# your code here"
      ]
    },
    {
      "cell_type": "markdown",
      "metadata": {
        "id": "E8oe7Hihs8SO"
      },
      "source": [
        "#### Show the frequency distribution of the amount spent in Spain."
      ]
    },
    {
      "cell_type": "code",
      "execution_count": null,
      "metadata": {
        "id": "DEBwOlLSs8SO"
      },
      "outputs": [],
      "source": [
        "# your code here"
      ]
    },
    {
      "cell_type": "markdown",
      "metadata": {
        "id": "qOYPB2lws8SO"
      },
      "source": [
        "#### Select all orders made in the month of August."
      ]
    },
    {
      "cell_type": "code",
      "execution_count": null,
      "metadata": {
        "id": "OElPLlSEs8SO"
      },
      "outputs": [],
      "source": [
        "# your code here"
      ]
    },
    {
      "cell_type": "markdown",
      "metadata": {
        "id": "tQe16h24s8SO"
      },
      "source": [
        "#### Find the number of orders made by each country in the month of August.\n",
        "**Hint**: Use value_counts()."
      ]
    },
    {
      "cell_type": "code",
      "execution_count": null,
      "metadata": {
        "id": "N71b3PUMs8SP"
      },
      "outputs": [],
      "source": [
        "# your code here"
      ]
    },
    {
      "cell_type": "markdown",
      "metadata": {
        "id": "3H-S6ko7s8SP"
      },
      "source": [
        "#### What's the  average amount of money spent by country?"
      ]
    },
    {
      "cell_type": "code",
      "execution_count": null,
      "metadata": {
        "id": "Eb9mFnNHs8SP"
      },
      "outputs": [],
      "source": [
        "# your code here"
      ]
    },
    {
      "cell_type": "markdown",
      "metadata": {
        "id": "w_JBWFThs8SP"
      },
      "source": [
        "#### What's the most expensive item?"
      ]
    },
    {
      "cell_type": "code",
      "execution_count": null,
      "metadata": {
        "id": "yxxTsEijs8SP"
      },
      "outputs": [],
      "source": [
        "# your code here"
      ]
    },
    {
      "cell_type": "markdown",
      "metadata": {
        "id": "zV9mcWCis8SQ"
      },
      "source": [
        "#### What is the average amount spent per year?"
      ]
    },
    {
      "cell_type": "code",
      "execution_count": null,
      "metadata": {
        "id": "NyeZ7bMus8SQ"
      },
      "outputs": [],
      "source": [
        "# your code here"
      ]
    }
  ],
  "metadata": {
    "anaconda-cloud": {},
    "kernelspec": {
      "display_name": "Python 3",
      "language": "python",
      "name": "python3"
    },
    "language_info": {
      "codemirror_mode": {
        "name": "ipython",
        "version": 3
      },
      "file_extension": ".py",
      "mimetype": "text/x-python",
      "name": "python",
      "nbconvert_exporter": "python",
      "pygments_lexer": "ipython3",
      "version": "3.7.2"
    },
    "colab": {
      "provenance": []
    }
  },
  "nbformat": 4,
  "nbformat_minor": 0
}